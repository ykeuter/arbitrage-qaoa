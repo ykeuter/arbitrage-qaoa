{
 "cells": [
  {
   "cell_type": "markdown",
   "metadata": {},
   "source": [
    "# Find the most profitable arbitrage opportunity with QAOA"
   ]
  },
  {
   "cell_type": "code",
   "execution_count": 7,
   "metadata": {},
   "outputs": [],
   "source": [
    "c_2_no_arbit = {\n",
    "    (\"EUR\", \"GBP\"): 0.88,\n",
    "    (\"GBP\", \"EUR\"): 1.13\n",
    "}\n",
    "\n",
    "c_2_yes_arbit = {\n",
    "    (\"EUR\", \"GBP\"): 0.88,\n",
    "    (\"GBP\", \"EUR\"): 1.23\n",
    "}\n",
    "\n",
    "c_3_no_arbit = {\n",
    "    (\"EUR\", \"GBP\"): 0.88,\n",
    "    (\"GBP\", \"EUR\"): 1.13,\n",
    "    (\"EUR\", \"CAD\"): 1.47,\n",
    "    (\"CAD\", \"EUR\"): 0.68,\n",
    "    (\"GBP\", \"CAD\"): 1.65,\n",
    "    (\"CAD\", \"GBP\"): 0.6\n",
    "}\n",
    "\n",
    "# GBP -> EUR -> CAD -> GBP makes you money. The other cycles do not.\n",
    "c_3_yes_arbit = {\n",
    "    (\"EUR\", \"GBP\"): 0.88,\n",
    "    (\"GBP\", \"EUR\"): 1.13,\n",
    "    (\"EUR\", \"CAD\"): 1.58,\n",
    "    (\"CAD\", \"EUR\"): 0.61,\n",
    "    (\"GBP\", \"CAD\"): 1.65,\n",
    "    (\"CAD\", \"GBP\"): 0.6\n",
    "}\n"
   ]
  },
  {
   "cell_type": "code",
   "execution_count": null,
   "metadata": {},
   "outputs": [],
   "source": []
  }
 ],
 "metadata": {
  "kernelspec": {
   "display_name": "Python 3",
   "language": "python",
   "name": "python3"
  },
  "language_info": {
   "codemirror_mode": {
    "name": "ipython",
    "version": 3
   },
   "file_extension": ".py",
   "mimetype": "text/x-python",
   "name": "python",
   "nbconvert_exporter": "python",
   "pygments_lexer": "ipython3",
   "version": "3.7.4"
  }
 },
 "nbformat": 4,
 "nbformat_minor": 2
}
