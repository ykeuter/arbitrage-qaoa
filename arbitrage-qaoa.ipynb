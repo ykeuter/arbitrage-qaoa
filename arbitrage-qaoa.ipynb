{
 "cells": [
  {
   "cell_type": "markdown",
   "metadata": {},
   "source": [
    "# Find the most profitable arbitrage opportunity with QAOA\n",
    "Given a market condition as a directed graph, find a closed cycle in the graph that represents the most profitable arbitrage opportunity. We solve this problem with Qiskit and the QAOA approach."
   ]
  },
  {
   "cell_type": "markdown",
   "metadata": {},
   "source": [
    "Here are some market conditions:"
   ]
  },
  {
   "cell_type": "code",
   "execution_count": 15,
   "metadata": {},
   "outputs": [],
   "source": [
    "# No arbitrage opportunity\n",
    "c_2_no_arbit = {\n",
    "    (\"EUR\", \"GBP\"): 0.88,\n",
    "    (\"GBP\", \"EUR\"): 1.13\n",
    "}\n",
    "\n",
    "# Arbitrage possible with just two assets\n",
    "c_2_yes_arbit = {\n",
    "    (\"EUR\", \"GBP\"): 0.88,\n",
    "    (\"GBP\", \"EUR\"): 1.23\n",
    "}\n",
    "\n",
    "c_3_no_arbit = {\n",
    "    (\"EUR\", \"GBP\"): 0.88,\n",
    "    (\"GBP\", \"EUR\"): 1.13,\n",
    "    (\"EUR\", \"CAD\"): 1.47,\n",
    "    (\"CAD\", \"EUR\"): 0.68,\n",
    "    (\"GBP\", \"CAD\"): 1.65,\n",
    "    (\"CAD\", \"GBP\"): 0.6\n",
    "}\n",
    "\n",
    "# GBP -> EUR -> CAD -> GBP makes you money. The other cycles do not.\n",
    "c_3_yes_arbit = {\n",
    "    (\"EUR\", \"GBP\"): 0.88,\n",
    "    (\"GBP\", \"EUR\"): 1.13,\n",
    "    (\"EUR\", \"CAD\"): 1.58,\n",
    "    (\"CAD\", \"EUR\"): 0.61,\n",
    "    (\"GBP\", \"CAD\"): 1.65,\n",
    "    (\"CAD\", \"GBP\"): 0.6\n",
    "}\n"
   ]
  },
  {
   "cell_type": "code",
   "execution_count": 39,
   "metadata": {},
   "outputs": [
    {
     "data": {
      "image/png": "[encoded data removed]",
      "text/plain": [
       "<Figure size 432x288 with 1 Axes>"
      ]
     },
     "metadata": {},
     "output_type": "display_data"
    }
   ],
   "source": [
    "%matplotlib inline\n",
    "\n",
    "import networkx as nx\n",
    "import matplotlib.pyplot as plt\n",
    "\n",
    "G = nx.Graph()\n",
    "\n",
    "plot_this = c_3_yes_arbit\n",
    "\n",
    "G.add_edges_from(list(plot_this.keys()))\n",
    "\n",
    "pos = nx.spring_layout(G)\n",
    "nx.draw_networkx(G, pos, True)\n",
    "nx.draw_networkx_edge_labels(G, pos, edge_labels=plot_this)\n",
    "plt.axis('off')\n",
    "plt.show()"
   ]
  },
  {
   "cell_type": "markdown",
   "metadata": {},
   "source": [
    "Some useful functions:"
   ]
  },
  {
   "cell_type": "code",
   "execution_count": null,
   "metadata": {},
   "outputs": [],
   "source": [
    "import numpy as np\n",
    "from qiskit import BasicAer as Aer\n",
    "from qiskit import QuantumRegister, execute\n",
    "from qiskit.quantum_info import Pauli\n",
    "from qiskit.aqua import Operator, get_aer_backend\n",
    "from qiskit.aqua.components.initial_states import Custom\n",
    "from scipy.optimize import minimize\n",
    "\n",
    "def pauli_x(q, coeff, n):\n",
    "    eye = np.eye((n)) # the i^th row of the identity matrix is \n",
    "                      # the correct parameter for \\sigma_i \n",
    "    return Operator([[coeff, Pauli(np.zeros(n), eye[q])]])\n",
    "\n",
    "def pauli_z(q, coeff, n):\n",
    "    eye = np.eye((n))\n",
    "    return Operator([[coeff, Pauli(eye[q], np.zeros(n))]])\n",
    "\n",
    "def product_pauli_z(q1, q2, coeff, n):\n",
    "    eye = np.eye((n))\n",
    "    return Operator([[coeff, Pauli(eye[q1], np.zeros(n)) *\n",
    "                      Pauli(eye[q2], np.zeros(n))]])"
   ]
  },
  {
   "cell_type": "code",
   "execution_count": null,
   "metadata": {},
   "outputs": [],
   "source": [
    "def evolve(hamiltonian, angle, quantum_registers):\n",
    "    return hamiltonian.evolve(None, angle, 'circuit', 1,\n",
    "                              quantum_registers=quantum_registers,\n",
    "                              expansion_mode='suzuki',\n",
    "                              expansion_order=3)\n",
    "\n",
    "def create_circuit(beta, gamma, Hc, Hm, qr, circuit_init, n_qubits):\n",
    "    identity = pauli_x(0, 0, n_qubits)\n",
    "    p = len(gamma)\n",
    "    circuit_evolv = sum([evolve(Hc, beta[i], qr) + evolve(Hm, gamma[i], qr)\n",
    "                            for i in range(p)], evolve(identity, 0, qr))\n",
    "    circuit = circuit_init + circuit_evolv\n",
    "    return circuit\n",
    "\n",
    "def evaluate_circuit(beta, gamma, Hc, Hm, qr, circuit_init, n_qubits):\n",
    "    circuit = create_circuit(beta, gamma, Hc, Hm, qr, circuit_init, n_qubits)\n",
    "    return np.real(Hc.eval(\"matrix\", circuit,\n",
    "                   get_aer_backend('statevector_simulator'))[0])"
   ]
  },
  {
   "cell_type": "markdown",
   "metadata": {},
   "source": [
    "The market condition is represented as a cost Hamiltonian:"
   ]
  },
  {
   "cell_type": "code",
   "execution_count": null,
   "metadata": {},
   "outputs": [],
   "source": [
    "def get_cost_hamiltonian(rates, m1, m2): # ordered dict\n",
    "    n = len(rates)\n",
    "    assets = set(k for k, v in rates.keys())\n",
    "    operators = []\n",
    "    for i, r in enumerate(rates.values()):\n",
    "        operators.append(pauli_z(i, np.log(r), n))\n",
    "    print(rates)\n",
    "    for a in assets:\n",
    "        for i, k in enumerate(rates.keys()):\n",
    "            print(k)\n",
    "            x1, y1 = k\n",
    "            if x1 != a: continue\n",
    "            for j, (x2, y2) in enumerate(rates.keys()):\n",
    "                if x2 != a: continue\n",
    "                operators.append(product_pauli_z(i, j, -m1, n))\n",
    "            for j, (x2, y2) in enumerate(rates.keys()):\n",
    "                if y2 != a: continue\n",
    "                operators.append(product_pauli_z(i, j, 2 * m1, n))\n",
    "        for i, (x1, y1) in rates.keys:\n",
    "            if y1 != a: continue\n",
    "            for j, (x2, y2) in enumerate(rates.keys()):\n",
    "                if y2 != a: continue\n",
    "                operators.append(product_pauli_z(i, j, -m1, n))\n",
    "    for a in assets:\n",
    "        for i, (x1, y1) in enumerate(rates.keys()):\n",
    "            if x1 != a: continue\n",
    "            operators.append(pauli_z(i, m2, n))\n",
    "            for j, (x2, y2) in enumerate(rates.keys()):\n",
    "                if x2 != a: continue\n",
    "                operators.append(product_pauli_z(i, j, -m2, n))\n",
    "    identity = pauli_x(0, 0, n)\n",
    "    Hc = sum(operators, identity)\n",
    "    Hc.to_matrix()\n",
    "    return Hc"
   ]
  },
  {
   "cell_type": "code",
   "execution_count": null,
   "metadata": {},
   "outputs": [],
   "source": [
    "def get_mixing_hamiltonian(n):\n",
    "    identity = pauli_x(0, 0, n)\n",
    "\n",
    "    Hm = sum([pauli_x(i, -1, n) for i in range(n)], identity)\n",
    "    Hm.to_matrix()\n",
    "    return Hm"
   ]
  },
  {
   "cell_type": "markdown",
   "metadata": {},
   "source": [
    "Actually running the whole thing:"
   ]
  },
  {
   "cell_type": "code",
   "execution_count": null,
   "metadata": {},
   "outputs": [],
   "source": [
    "rates = c_2_yes_arbit\n",
    "n_iter = 10 # number of iterations of the optimization procedure\n",
    "p = 1\n",
    "beta = np.random.uniform(0, np.pi*2, p)\n",
    "gamma = np.random.uniform(0, np.pi*2, p)\n",
    "n = len(rates)\n",
    "init_state_vect = [1 for i in range(2 ** n)]\n",
    "init_state = Custom(n, state_vector=init_state_vect)\n",
    "qr = QuantumRegister(n)\n",
    "circuit_init = init_state.construct_circuit('circuit', qr)\n",
    "Hc = get_cost_hamiltonian(rates, 1, 1)\n",
    "Hm = get_mixing_hamiltonian(n)\n",
    "\n",
    "result = minimize(lambda x: evaluate_circuit(x[:(len(x) / 2)],\n",
    "                                             x[(len(x) / 2):],\n",
    "                                             Hc, Hm, qr, circuit_init, n),\n",
    "                  np.concatenate([beta, gamma]),\n",
    "                  method='L-BFGS-B')\n",
    "\n",
    "circuit = create_circuit(result['x'][:p], result['x'][p:])\n",
    "\n",
    "backend = Aer.get_backend('statevector_simulator')\n",
    "job = execute(circuit, backend)\n",
    "state = np.asarray(job.result().get_statevector(circuit))\n"
   ]
  }
 ],
 "metadata": {
  "kernelspec": {
   "display_name": "Python 3",
   "language": "python",
   "name": "python3"
  },
  "language_info": {
   "codemirror_mode": {
    "name": "ipython",
    "version": 3
   },
   "file_extension": ".py",
   "mimetype": "text/x-python",
   "name": "python",
   "nbconvert_exporter": "python",
   "pygments_lexer": "ipython3",
   "version": "3.7.4"
  }
 },
 "nbformat": 4,
 "nbformat_minor": 2
}
